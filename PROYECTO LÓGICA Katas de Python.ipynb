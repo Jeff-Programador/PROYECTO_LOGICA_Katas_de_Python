{
 "cells": [
  {
   "cell_type": "markdown",
   "id": "581a4810",
   "metadata": {},
   "source": [
    "# PROYECTO LÓGICA: Katas de Python\n"
   ]
  },
  {
   "cell_type": "code",
   "execution_count": 3,
   "id": "cffee316",
   "metadata": {},
   "outputs": [],
   "source": [
    "from __future__ import annotations\n",
    "from functools import reduce\n",
    "from typing import Dict, List, Tuple, Iterable, Any, Optional\n",
    "from math import pi"
   ]
  },
  {
   "cell_type": "markdown",
   "id": "038a3ca6",
   "metadata": {},
   "source": [
    "### 1. Escribe una función que reciba una cadena de texto como parámetro y devuelva un diccionario con las frecuencias de cada letra en la cadena. Los espacios no deben ser considerados.\n"
   ]
  },
  {
   "cell_type": "code",
   "execution_count": 8,
   "id": "a04e549b",
   "metadata": {},
   "outputs": [
    {
     "name": "stdout",
     "output_type": "stream",
     "text": [
      "{'h': 2, 'o': 2, 'l': 2, 'a': 2}\n"
     ]
    }
   ],
   "source": [
    "def frecuencias_letras(texto: str) -> dict:\n",
    "    \"\"\"\n",
    "    Recibe una cadena y devuelve un diccionario con la frecuencia de cada letra.\n",
    "    Los espacios no se cuentan.\n",
    "    \"\"\"\n",
    "    conteo = {}\n",
    "    for letra in texto:\n",
    "        if letra == \" \":   # ignoramos espacios\n",
    "            continue\n",
    "        # sumamos 1 si ya estaba, o la inicializamos en 1\n",
    "        conteo[letra] = conteo.get(letra, 0) + 1\n",
    "    return conteo\n",
    "\n",
    "\n",
    "# Ejemplo de uso\n",
    "print(frecuencias_letras(\"hola hola\"))\n",
    "# Salida: {'h': 2, 'o': 2, 'l': 2, 'a': 2}\n"
   ]
  },
  {
   "cell_type": "markdown",
   "id": "eda7b93c",
   "metadata": {},
   "source": [
    "### 2. Dada una lista de números, obtén una nueva lista con el doble de cada valor. Usa la función map()"
   ]
  },
  {
   "cell_type": "code",
   "execution_count": 9,
   "id": "8ae55f17",
   "metadata": {},
   "outputs": [
    {
     "name": "stdout",
     "output_type": "stream",
     "text": [
      "[2, 4, 6, 8]\n"
     ]
    }
   ],
   "source": [
    "def doblar_lista(numeros: list) -> list:\n",
    "    \"\"\"\n",
    "    Recibe una lista de números y devuelve una nueva lista\n",
    "    con el doble de cada valor usando map().\n",
    "    \"\"\"\n",
    "    return list(map(lambda x: x * 2, numeros))\n",
    "\n",
    "\n",
    "# Ejemplo de uso\n",
    "print(doblar_lista([1, 2, 3, 4]))\n",
    "# Salida: [2, 4, 6, 8]\n"
   ]
  },
  {
   "cell_type": "markdown",
   "id": "b70d3ea2",
   "metadata": {},
   "source": [
    "### 3. Escribe una función que tome una lista de palabras y una palabra objetivo como parámetros. La función debe devolver una lista con todas las palabras de la lista original que contengan la palabra objetivo."
   ]
  },
  {
   "cell_type": "code",
   "execution_count": 13,
   "id": "a8fa1c63",
   "metadata": {},
   "outputs": [
    {
     "name": "stdout",
     "output_type": "stream",
     "text": [
      "['gato']\n"
     ]
    }
   ],
   "source": [
    "def contiene_objetivo(palabras: list, objetivo: str) -> list:\n",
    "    \"\"\"\n",
    "    Recibe una lista de palabras y una palabra objetivo.\n",
    "    Devuelve una lista con todas las palabras de la lista original\n",
    "    que contengan la palabra objetivo dentro de ellas.\n",
    "    \"\"\"\n",
    "    return [p for p in palabras if objetivo in p]\n",
    "\n",
    "\n",
    "# Ejemplo de uso\n",
    "lista = [\"gato\", \"perro\", \"ratón\", \"gatito\", \"lagarto\"]\n",
    "print(contiene_objetivo(lista, \"gato\"))\n",
    "# Salida: ['gato']\n"
   ]
  },
  {
   "cell_type": "markdown",
   "id": "acc0e528",
   "metadata": {},
   "source": [
    "### 4. Genera una función que calcule la diferencia entre los valores de dos listas. Usa la función map()"
   ]
  },
  {
   "cell_type": "code",
   "execution_count": 14,
   "id": "c4afb3ec",
   "metadata": {},
   "outputs": [
    {
     "name": "stdout",
     "output_type": "stream",
     "text": [
      "[9, 18, 27]\n"
     ]
    }
   ],
   "source": [
    "def diferencia_listas(lista1: list, lista2: list) -> list:\n",
    "    \"\"\"\n",
    "    Recibe dos listas numéricas y devuelve una nueva lista\n",
    "    con la diferencia elemento a elemento (lista1 - lista2).\n",
    "    Si las listas tienen distinta longitud, se recorta a la más corta.\n",
    "    \"\"\"\n",
    "    return list(map(lambda x, y: x - y, lista1, lista2))\n",
    "\n",
    "\n",
    "# Ejemplo de uso\n",
    "a = [10, 20, 30]\n",
    "b = [1, 2, 3]\n",
    "print(diferencia_listas(a, b))\n",
    "# Salida: [9, 18, 27]\n"
   ]
  },
  {
   "cell_type": "markdown",
   "id": "1b1f73ce",
   "metadata": {},
   "source": [
    "### 5. Escribe una función que tome una lista de números como parámetro y un valor opcional nota_aprobado, que por defecto es 5. La función debe calcular la media de los números en la lista y determinar si la media es mayor o igual que nota aprobado. Si es así, el estado será \"aprobado\", de lo contrario, será \"suspenso\". La función debe devolver una tupla que contenga la media y el estado."
   ]
  },
  {
   "cell_type": "code",
   "execution_count": 15,
   "id": "9ee989c8",
   "metadata": {},
   "outputs": [
    {
     "name": "stdout",
     "output_type": "stream",
     "text": [
      "(6.0, 'aprobado')\n",
      "(3.0, 'suspenso')\n"
     ]
    }
   ],
   "source": [
    "def media_y_estado(notas: list, nota_aprobado: float = 5.0) -> tuple:\n",
    "    \"\"\"\n",
    "    Recibe una lista de números (notas) y un valor opcional nota_aprobado (por defecto 5).\n",
    "    Devuelve una tupla con la media de las notas y el estado (\"aprobado\" o \"suspenso\").\n",
    "    \"\"\"\n",
    "    if not notas:  # comprobamos que la lista no esté vacía\n",
    "        raise ValueError(\"La lista de notas está vacía\")\n",
    "\n",
    "    media = sum(notas) / len(notas)\n",
    "    estado = \"aprobado\" if media >= nota_aprobado else \"suspenso\"\n",
    "    return media, estado\n",
    "\n",
    "\n",
    "# Ejemplo de uso\n",
    "print(media_y_estado([4, 6, 8]))\n",
    "# Salida: (6.0, 'aprobado')\n",
    "\n",
    "print(media_y_estado([2, 3, 4], nota_aprobado=5))\n",
    "# Salida: (3.0, 'suspenso')\n"
   ]
  },
  {
   "cell_type": "markdown",
   "id": "7ddfe751",
   "metadata": {},
   "source": [
    "### 6. Escribe una función que calcule el factorial de un número de manera recursiva"
   ]
  },
  {
   "cell_type": "code",
   "execution_count": 16,
   "id": "3dd0f81c",
   "metadata": {},
   "outputs": [
    {
     "name": "stdout",
     "output_type": "stream",
     "text": [
      "120\n",
      "1\n"
     ]
    }
   ],
   "source": [
    "def factorial(n: int) -> int:\n",
    "    \"\"\"\n",
    "    Calcula el factorial de un número de manera recursiva.\n",
    "    n! = n * (n-1) * (n-2) * ... * 1\n",
    "    \"\"\"\n",
    "    if n < 0:\n",
    "        raise ValueError(\"El factorial no está definido para números negativos\")\n",
    "    if n in (0, 1):  # caso base\n",
    "        return 1\n",
    "    return n * factorial(n - 1)  # llamada recursiva\n",
    "\n",
    "\n",
    "# Ejemplo de uso\n",
    "print(factorial(5))  # 120\n",
    "print(factorial(0))  # 1\n"
   ]
  },
  {
   "cell_type": "markdown",
   "id": "fc3fa16e",
   "metadata": {},
   "source": [
    "### 7. Genera una función que convierta una lista de tuplas a una lista de strings. Usa la función map()"
   ]
  },
  {
   "cell_type": "code",
   "execution_count": 17,
   "id": "3fae6439",
   "metadata": {},
   "outputs": [
    {
     "name": "stdout",
     "output_type": "stream",
     "text": [
      "['a:1', 'b:2', 'c:3']\n"
     ]
    }
   ],
   "source": [
    "def tuplas_a_strings(pares: list) -> list:\n",
    "    \"\"\"\n",
    "    Convierte una lista de tuplas en una lista de strings.\n",
    "    Cada tupla se transforma en el formato 'clave:valor'.\n",
    "    \"\"\"\n",
    "    return list(map(lambda t: f\"{t[0]}:{t[1]}\", pares))\n",
    "\n",
    "\n",
    "# Ejemplo de uso\n",
    "datos = [(\"a\", 1), (\"b\", 2), (\"c\", 3)]\n",
    "print(tuplas_a_strings(datos))\n",
    "# Salida: ['a:1', 'b:2', 'c:3']\n"
   ]
  },
  {
   "cell_type": "markdown",
   "id": "51b79596",
   "metadata": {},
   "source": [
    "### 8. Escribe un programa que pida al usuario dos números e intente dividirlos. Si el usuario ingresa un valor no numérico o intenta dividir por cero, maneja esas excepciones de manera adecuada. Asegúrate de mostrar un mensaje indicando si la división fue exitosa o no."
   ]
  },
  {
   "cell_type": "code",
   "execution_count": 19,
   "id": "2e0f5e7e",
   "metadata": {},
   "outputs": [
    {
     "name": "stdout",
     "output_type": "stream",
     "text": [
      "❌ Error: No se puede dividir entre cero.\n"
     ]
    }
   ],
   "source": [
    "def dividir_seguro():\n",
    "    \"\"\"\n",
    "    Pide dos números al usuario e intenta dividirlos.\n",
    "    Maneja errores si la entrada no es numérica o si se divide por cero.\n",
    "    \"\"\"\n",
    "    try:\n",
    "        a = float(input(\"Introduce el primer número: \"))\n",
    "        b = float(input(\"Introduce el segundo número: \"))\n",
    "        resultado = a / b  # aquí puede saltar ZeroDivisionError\n",
    "    except ValueError:\n",
    "        print(\"❌ Error: Debes introducir números válidos.\")\n",
    "    except ZeroDivisionError:\n",
    "        print(\"❌ Error: No se puede dividir entre cero.\")\n",
    "    else:\n",
    "        print(f\"✅ División exitosa. Resultado: {resultado}\")\n",
    "\n",
    "\n",
    "# Ejemplo de uso\n",
    "dividir_seguro()\n"
   ]
  },
  {
   "cell_type": "markdown",
   "id": "358dd631",
   "metadata": {},
   "source": [
    "### 9. Escribe una función que tome una lista de nombres de mascotas como parámetro y devuelva una nueva lista excluyendo ciertas mascotas prohibidas en España. La lista de mascotas a excluir es [\"Mapache\", \"Tigre\", \"Serpiente Pitón\", \"Cocodrilo\", \"Oso\"].Usa la función filter()"
   ]
  },
  {
   "cell_type": "code",
   "execution_count": 20,
   "id": "f5eaa11a",
   "metadata": {},
   "outputs": [
    {
     "name": "stdout",
     "output_type": "stream",
     "text": [
      "['Perro', 'Gato', 'Canario']\n"
     ]
    }
   ],
   "source": [
    "def filtrar_mascotas_permitidas(mascotas: list) -> list:\n",
    "    \"\"\"\n",
    "    Recibe una lista de nombres de mascotas y devuelve una nueva lista\n",
    "    excluyendo las prohibidas en España.\n",
    "    \"\"\"\n",
    "    prohibidas = [\"Mapache\", \"Tigre\", \"Serpiente Pitón\", \"Cocodrilo\", \"Oso\"]\n",
    "    return list(filter(lambda m: m not in prohibidas, mascotas))\n",
    "\n",
    "\n",
    "# Ejemplo de uso\n",
    "lista = [\"Perro\", \"Gato\", \"Mapache\", \"Tigre\", \"Canario\"]\n",
    "print(filtrar_mascotas_permitidas(lista))\n",
    "# Salida: ['Perro', 'Gato', 'Canario']\n"
   ]
  },
  {
   "cell_type": "markdown",
   "id": "db446d3e",
   "metadata": {},
   "source": [
    "### 10. Escribe una función que reciba una lista de números y calcule su promedio. Si la lista está vacía, lanza una excepción personalizada y maneja el error adecuadamente."
   ]
  },
  {
   "cell_type": "code",
   "execution_count": 22,
   "id": "6832784c",
   "metadata": {},
   "outputs": [
    {
     "name": "stdout",
     "output_type": "stream",
     "text": [
      "4.0\n",
      "❌ Error capturado: La lista está vacía. No se puede calcular el promedio.\n"
     ]
    }
   ],
   "source": [
    "# Definimos una excepción personalizada\n",
    "class ListaVaciaError(Exception):\n",
    "    \"\"\"Excepción lanzada cuando la lista está vacía.\"\"\"\n",
    "    pass\n",
    "\n",
    "\n",
    "def promedio_seguro(numeros: list) -> float:\n",
    "    \"\"\"\n",
    "    Recibe una lista de números y devuelve su promedio.\n",
    "    Si la lista está vacía, lanza ListaVaciaError.\n",
    "    \"\"\"\n",
    "    if not numeros:\n",
    "        raise ListaVaciaError(\"La lista está vacía. No se puede calcular el promedio.\")\n",
    "    return sum(numeros) / len(numeros)\n",
    "\n",
    "\n",
    "# Ejemplo de uso con manejo de error\n",
    "try:\n",
    "    print(promedio_seguro([2, 4, 6]))  # Promedio normal\n",
    "    print(promedio_seguro([]))         # Provoca excepción\n",
    "except ListaVaciaError as e:\n",
    "    print(f\"❌ Error capturado: {e}\")\n"
   ]
  },
  {
   "cell_type": "markdown",
   "id": "586822da",
   "metadata": {},
   "source": [
    "### 11. Escribe un programa que pida al usuario que introduzca su edad. Si el usuario ingresa un valor no numérico o un valor fuera del rango esperado (por ejemplo, menor que 0 o mayor que 120), maneja las excepciones adecuadamente.\n"
   ]
  },
  {
   "cell_type": "code",
   "execution_count": 31,
   "id": "c7427396",
   "metadata": {},
   "outputs": [
    {
     "name": "stdout",
     "output_type": "stream",
     "text": [
      "❌ Error: Debes introducir un número válido entre 0 y 120.\n"
     ]
    }
   ],
   "source": [
    "def pedir_edad():\n",
    "    \"\"\"\n",
    "    Pide al usuario que introduzca su edad.\n",
    "    Maneja errores si la entrada no es numérica o si está fuera del rango 0–120.\n",
    "    \"\"\"\n",
    "    try:\n",
    "        entrada = input(\"Introduce tu edad: \")\n",
    "        edad = int(entrada)  # aquí puede fallar si no es numérico\n",
    "        if not (0 <= edad <= 120):\n",
    "            raise ValueError(\"Edad fuera del rango permitido (0–120).\")\n",
    "    except ValueError:\n",
    "        print(\"❌ Error: Debes introducir un número válido entre 0 y 120.\")\n",
    "    else:\n",
    "        print(f\"✅ Edad registrada correctamente: {edad} años\")\n",
    "\n",
    "\n",
    "# Ejemplo de uso\n",
    "pedir_edad()\n"
   ]
  },
  {
   "cell_type": "markdown",
   "id": "e24925af",
   "metadata": {},
   "source": [
    "### 12. Genera una función que al recibir una frase devuelva una lista con la longitud de cada palabra. Usa la función map()"
   ]
  },
  {
   "cell_type": "code",
   "execution_count": 33,
   "id": "27360453",
   "metadata": {},
   "outputs": [
    {
     "name": "stdout",
     "output_type": "stream",
     "text": [
      "[9, 2, 2, 5]\n"
     ]
    }
   ],
   "source": [
    "def longitudes_palabras():\n",
    "    \"\"\"\n",
    "    Pide al usuario una frase y devuelve una lista con la longitud de cada palabra.\n",
    "    Usa la función map().\n",
    "    \"\"\"\n",
    "    frase = input(\"Introduce una frase: \")\n",
    "    return list(map(len, frase.split()))\n",
    "\n",
    "\n",
    "# Ejemplo de uso\n",
    "print(longitudes_palabras())\n"
   ]
  },
  {
   "cell_type": "markdown",
   "id": "2c7874ac",
   "metadata": {},
   "source": [
    "### 13. Genera una función la cual, para un conjunto de caracteres, devuelva una lista de tuplas con cada letra en mayúsculas y minúsculas. Las letras no pueden estar repetidas .Usa la función map()"
   ]
  },
  {
   "cell_type": "code",
   "execution_count": 34,
   "id": "1574eb84",
   "metadata": {},
   "outputs": [
    {
     "name": "stdout",
     "output_type": "stream",
     "text": [
      "[(' ', ' '), ('A', 'a'), ('J', 'j'), ('L', 'l'), ('A', 'a'), ('B', 'b'), ('D', 'd'), ('E', 'e'), ('F', 'f'), ('G', 'g'), ('I', 'i'), ('L', 'l'), ('N', 'n'), ('O', 'o'), ('R', 'r'), ('S', 's'), ('U', 'u'), ('Ñ', 'ñ')]\n"
     ]
    }
   ],
   "source": [
    "def pares_mayus_minus():\n",
    "    \"\"\"\n",
    "    Pide al usuario un conjunto de caracteres y devuelve\n",
    "    una lista de tuplas con cada letra en (MAYÚSCULA, minúscula).\n",
    "    No se repiten letras.\n",
    "    Usa la función map().\n",
    "    \"\"\"\n",
    "    entrada = input(\"Introduce un conjunto de caracteres: \")\n",
    "    unicos = sorted(set(entrada))  # eliminamos repetidos y ordenamos\n",
    "    return list(map(lambda c: (c.upper(), c.lower()), unicos))\n",
    "\n",
    "\n",
    "# Ejemplo de uso\n",
    "print(pares_mayus_minus())\n"
   ]
  },
  {
   "cell_type": "markdown",
   "id": "c37a6cc1",
   "metadata": {},
   "source": [
    "### 14. Crea una función que retorne las palabras de una lista de palabras que comience con una letra en especifico. Usa la función filter()"
   ]
  },
  {
   "cell_type": "code",
   "execution_count": 36,
   "id": "3fbcd06e",
   "metadata": {},
   "outputs": [
    {
     "name": "stdout",
     "output_type": "stream",
     "text": [
      "['sol', 'sombra', 'salto']\n"
     ]
    }
   ],
   "source": [
    "def palabras_por_letra():\n",
    "    \"\"\"\n",
    "    Pide al usuario una lista de palabras (separadas por espacios) y una letra.\n",
    "    Devuelve las palabras que comiencen con esa letra usando filter().\n",
    "    \"\"\"\n",
    "    palabras = input(\"Introduce una lista de palabras separadas por espacios: \").split()\n",
    "    letra = input(\"Introduce la letra por la que deben empezar: \")\n",
    "\n",
    "    return list(filter(lambda p: p.startswith(letra), palabras))\n",
    "\n",
    "\n",
    "# Ejemplo de uso\n",
    "print(palabras_por_letra())\n"
   ]
  },
  {
   "cell_type": "markdown",
   "id": "42387075",
   "metadata": {},
   "source": [
    "### 15. Crea una función lambda que sume 3 a cada número de una lista dada."
   ]
  },
  {
   "cell_type": "code",
   "execution_count": 37,
   "id": "7a87f525",
   "metadata": {},
   "outputs": [
    {
     "name": "stdout",
     "output_type": "stream",
     "text": [
      "[4, 5, 6, 7]\n"
     ]
    }
   ],
   "source": [
    "# Función lambda que recibe una lista y devuelve otra lista con +3 en cada número\n",
    "sumar_tres = lambda numeros: list(map(lambda x: x + 3, numeros))\n",
    "\n",
    "# Ejemplo de uso\n",
    "print(sumar_tres([1, 2, 3, 4]))\n",
    "# Salida: [4, 5, 6, 7]\n"
   ]
  },
  {
   "cell_type": "markdown",
   "id": "b327670a",
   "metadata": {},
   "source": [
    "### 16. Escribe una función que tome una cadena de texto y un número entero n como parámetros y devuelva una lista de todas las palabras que sean más largas que n. Usa la función filter()"
   ]
  },
  {
   "cell_type": "code",
   "execution_count": null,
   "id": "26b4787a",
   "metadata": {},
   "outputs": [
    {
     "name": "stdout",
     "output_type": "stream",
     "text": [
      "['Hola', 'todos', 'clase', 'Python']\n"
     ]
    }
   ],
   "source": [
    "def palabras_mas_largas(frase: str, n: int) -> list:\n",
    "    \"\"\"\n",
    "    Recibe una cadena de texto y un número entero n.\n",
    "    Devuelve una lista con las palabras de la frase que tienen longitud > n.\n",
    "    Usa filter().\n",
    "    \"\"\"\n",
    "    return list(filter(lambda palabra: len(palabra) > n, frase.split()))\n",
    "\n",
    "\n",
    "# Ejemplo de uso\n",
    "print(palabras_mas_largas(\"Hola a todos en la clase de Python\", 3))\n",
    "# Salida: ['Hola', 'todos', 'clase', 'Python']\n"
   ]
  },
  {
   "cell_type": "markdown",
   "id": "f00456db",
   "metadata": {},
   "source": [
    "### 17. Crea una función que tome una lista de dígitos y devuelva el número correspondiente. Por ejemplo, [5,7,2] corresponde al número quinientos setenta y dos (572). Usa la función reduce()"
   ]
  },
  {
   "cell_type": "code",
   "execution_count": 39,
   "id": "8baedcf1",
   "metadata": {},
   "outputs": [
    {
     "name": "stdout",
     "output_type": "stream",
     "text": [
      "572\n",
      "1234\n"
     ]
    }
   ],
   "source": [
    "def lista_a_numero(digitos: list) -> int:\n",
    "    \"\"\"\n",
    "    Recibe una lista de dígitos y devuelve el número correspondiente.\n",
    "    Usa reduce() para combinar los dígitos.\n",
    "    Ejemplo: [5,7,2] -> 572\n",
    "    \"\"\"\n",
    "    return reduce(lambda acc, d: acc * 10 + d, digitos, 0)\n",
    "\n",
    "\n",
    "# Ejemplo de uso\n",
    "print(lista_a_numero([5, 7, 2]))  # 572\n",
    "print(lista_a_numero([1, 2, 3, 4]))  # 1234\n"
   ]
  },
  {
   "cell_type": "markdown",
   "id": "7ac51816",
   "metadata": {},
   "source": [
    "### 18. Escribe un programa en Python que cree una lista de diccionarios que contenga información de estudiantes (nombre, edad, calificación) y use la función filter para extraer a los estudiantes con una calificación mayor o igual a 90. Usa la función filter()"
   ]
  },
  {
   "cell_type": "code",
   "execution_count": 40,
   "id": "d9969156",
   "metadata": {},
   "outputs": [
    {
     "name": "stdout",
     "output_type": "stream",
     "text": [
      "[{'nombre': 'Ana', 'edad': 20, 'calificacion': 95}, {'nombre': 'María', 'edad': 19, 'calificacion': 90}]\n"
     ]
    }
   ],
   "source": [
    "def filtrar_mejores_estudiantes():\n",
    "    \"\"\"\n",
    "    Crea una lista de diccionarios con estudiantes (nombre, edad, calificación)\n",
    "    y devuelve solo los que tienen calificación >= 90 usando filter().\n",
    "    \"\"\"\n",
    "    estudiantes = [\n",
    "        {\"nombre\": \"Ana\", \"edad\": 20, \"calificacion\": 95},\n",
    "        {\"nombre\": \"Luis\", \"edad\": 21, \"calificacion\": 85},\n",
    "        {\"nombre\": \"María\", \"edad\": 19, \"calificacion\": 90},\n",
    "        {\"nombre\": \"Pedro\", \"edad\": 22, \"calificacion\": 70}\n",
    "    ]\n",
    "\n",
    "    mejores = list(filter(lambda est: est[\"calificacion\"] >= 90, estudiantes))\n",
    "    return mejores\n",
    "\n",
    "\n",
    "# Ejemplo de uso\n",
    "print(filtrar_mejores_estudiantes())\n"
   ]
  },
  {
   "cell_type": "markdown",
   "id": "91865247",
   "metadata": {},
   "source": [
    "### 19. Crea una función lambda que filtre los números impares de una lista dada.\n"
   ]
  },
  {
   "cell_type": "code",
   "execution_count": 41,
   "id": "af9b4628",
   "metadata": {},
   "outputs": [
    {
     "name": "stdout",
     "output_type": "stream",
     "text": [
      "[1, 3, 5, 7]\n"
     ]
    }
   ],
   "source": [
    "# Función lambda que filtra los números impares de una lista\n",
    "filtrar_impares = lambda numeros: list(filter(lambda x: x % 2 != 0, numeros))\n",
    "\n",
    "# Ejemplo de uso\n",
    "print(filtrar_impares([1, 2, 3, 4, 5, 6, 7]))\n",
    "# Salida: [1, 3, 5, 7]\n"
   ]
  },
  {
   "cell_type": "markdown",
   "id": "e88c54e2",
   "metadata": {},
   "source": [
    "### 20. Para una lista con elementos tipo integer y string obtén una nueva lista sólo con los valores int. Usa la función filter()"
   ]
  },
  {
   "cell_type": "code",
   "execution_count": 42,
   "id": "c0b66530",
   "metadata": {},
   "outputs": [
    {
     "name": "stdout",
     "output_type": "stream",
     "text": [
      "[1, 3, 5, 7]\n"
     ]
    }
   ],
   "source": [
    "def solo_enteros(lista: list) -> list:\n",
    "    \"\"\"\n",
    "    Recibe una lista con enteros y cadenas.\n",
    "    Devuelve una nueva lista solo con los valores int.\n",
    "    Usa filter().\n",
    "    \"\"\"\n",
    "    return list(filter(lambda x: isinstance(x, int), lista))\n",
    "\n",
    "\n",
    "# Ejemplo de uso\n",
    "datos = [1, \"dos\", 3, \"cuatro\", 5, \"6\", 7]\n",
    "print(solo_enteros(datos))\n",
    "# Salida: [1, 3, 5, 7]\n"
   ]
  },
  {
   "cell_type": "markdown",
   "id": "3668eadd",
   "metadata": {},
   "source": [
    "### 21. Crea una función que calcule el cubo de un número dado mediante una función lambda"
   ]
  },
  {
   "cell_type": "code",
   "execution_count": 43,
   "id": "84b892ce",
   "metadata": {},
   "outputs": [
    {
     "name": "stdout",
     "output_type": "stream",
     "text": [
      "8\n",
      "125\n"
     ]
    }
   ],
   "source": [
    "# Función lambda que calcula el cubo de un número\n",
    "cubo = lambda x: x ** 3\n",
    "\n",
    "# Ejemplo de uso\n",
    "print(cubo(2))   # 8\n",
    "print(cubo(5))   # 125\n"
   ]
  },
  {
   "cell_type": "markdown",
   "id": "27fb4bdf",
   "metadata": {},
   "source": [
    "### 22. Dada una lista numérica, obtén el producto total de los valores de dicha lista.Usa la función reduce() ."
   ]
  },
  {
   "cell_type": "code",
   "execution_count": 46,
   "id": "c4188284",
   "metadata": {},
   "outputs": [
    {
     "name": "stdout",
     "output_type": "stream",
     "text": [
      "24\n",
      "50\n",
      "1\n"
     ]
    }
   ],
   "source": [
    "def producto_lista(numeros: list) -> int:\n",
    "    \"\"\"\n",
    "    Recibe una lista de números y devuelve el producto total de sus valores.\n",
    "    Usa reduce().\n",
    "    \"\"\"\n",
    "    return reduce(lambda x, y: x * y, numeros, 1)\n",
    "\n",
    "\n",
    "# Ejemplo de uso\n",
    "print(producto_lista([2, 3, 4]))   # 24\n",
    "print(producto_lista([5, 10]))     # 50\n",
    "print(producto_lista([]))          # 1 (producto vacío)\n"
   ]
  },
  {
   "cell_type": "markdown",
   "id": "a2da9d2c",
   "metadata": {},
   "source": [
    "### 23. Concatena una lista de palabras.Usa la función reduce() .\n"
   ]
  },
  {
   "cell_type": "code",
   "execution_count": 47,
   "id": "032d080d",
   "metadata": {},
   "outputs": [
    {
     "name": "stdout",
     "output_type": "stream",
     "text": [
      "Hola mundo!\n"
     ]
    }
   ],
   "source": [
    "def concatenar_palabras(palabras: list) -> str:\n",
    "    \"\"\"\n",
    "    Recibe una lista de palabras y devuelve una cadena\n",
    "    con todas ellas concatenadas.\n",
    "    Usa reduce().\n",
    "    \"\"\"\n",
    "    return reduce(lambda a, b: a + b, palabras, \"\")\n",
    "\n",
    "\n",
    "# Ejemplo de uso\n",
    "print(concatenar_palabras([\"Hola\", \" \", \"mundo\", \"!\"]))\n",
    "# Salida: Hola mundo!\n"
   ]
  },
  {
   "cell_type": "markdown",
   "id": "37f42ebb",
   "metadata": {},
   "source": [
    "### 24. Calcula la diferencia total en los valores de una lista. Usa la función reduce() ."
   ]
  },
  {
   "cell_type": "code",
   "execution_count": 48,
   "id": "c05b92ae",
   "metadata": {},
   "outputs": [
    {
     "name": "stdout",
     "output_type": "stream",
     "text": [
      "5\n",
      "25\n",
      "0\n"
     ]
    }
   ],
   "source": [
    "def diferencia_total(numeros: list) -> int:\n",
    "    \"\"\"\n",
    "    Calcula la diferencia total de los valores de una lista\n",
    "    usando reduce(). La operación es: a1 - a2 - a3 - ...\n",
    "    Si la lista está vacía, devuelve 0.\n",
    "    \"\"\"\n",
    "    if not numeros:\n",
    "        return 0\n",
    "    return reduce(lambda x, y: x - y, numeros)\n",
    "\n",
    "\n",
    "# Ejemplo de uso\n",
    "print(diferencia_total([10, 2, 3]))   # 10 - 2 - 3 = 5\n",
    "print(diferencia_total([50, 20, 5]))  # 50 - 20 - 5 = 25\n",
    "print(diferencia_total([]))           # 0\n"
   ]
  },
  {
   "cell_type": "markdown",
   "id": "8cfef019",
   "metadata": {},
   "source": [
    "### 25. Crea una función que cuente el número de caracteres en una cadena de texto dada"
   ]
  },
  {
   "cell_type": "code",
   "execution_count": null,
   "id": "1036ad2d",
   "metadata": {},
   "outputs": [
    {
     "name": "stdout",
     "output_type": "stream",
     "text": [
      "32\n",
      "0\n"
     ]
    }
   ],
   "source": [
    "def contar_caracteres(texto: str) -> int:\n",
    "    \"\"\"\n",
    "    Recibe una cadena de texto y devuelve el número de caracteres que contiene.\n",
    "    \"\"\"\n",
    "    return len(texto)\n",
    "\n",
    "\n",
    "# Ejemplo de uso\n",
    "print(contar_caracteres(\"Hola mundo estamos usando python\"))   # 32 (sin contar el espacio son 9)\n",
    "print(contar_caracteres(\"\"))             # 0\n"
   ]
  },
  {
   "cell_type": "markdown",
   "id": "1855c7d5",
   "metadata": {},
   "source": [
    "### 26. Crea una función lambda que calcule el resto de la división entre dos números dados"
   ]
  },
  {
   "cell_type": "code",
   "execution_count": 57,
   "id": "4d18c9aa",
   "metadata": {},
   "outputs": [
    {
     "name": "stdout",
     "output_type": "stream",
     "text": [
      "2\n",
      "1\n",
      "4\n"
     ]
    }
   ],
   "source": [
    "# Función lambda que calcula el resto (módulo) de la división\n",
    "resto = lambda a, b: a % b\n",
    "\n",
    "# Ejemplo de uso\n",
    "print(resto(10, 4))   # 2\n",
    "print(resto(25, 4))   # 1\n",
    "print(resto(19, 5))    # 4\n"
   ]
  },
  {
   "cell_type": "markdown",
   "id": "35149194",
   "metadata": {},
   "source": [
    "### 27. Crea una función que calcule el promedio de una lista de números.\n"
   ]
  },
  {
   "cell_type": "code",
   "execution_count": 2,
   "id": "a1bcb2ee",
   "metadata": {},
   "outputs": [
    {
     "name": "stdout",
     "output_type": "stream",
     "text": [
      "5.0\n",
      "15.0\n",
      "None\n"
     ]
    }
   ],
   "source": [
    "from typing import Optional\n",
    "\n",
    "def promedio(numeros: list) -> Optional[float]:\n",
    "    \"\"\"\n",
    "    Recibe una lista de números y devuelve su promedio (media aritmética).\n",
    "    Si la lista está vacía, devuelve None.\n",
    "    \"\"\"\n",
    "    if not numeros:\n",
    "        return None\n",
    "    return sum(numeros) / len(numeros)\n",
    "\n",
    "\n",
    "# Ejemplo de uso\n",
    "print(promedio([2, 4, 6, 8]))   # 5.0\n",
    "print(promedio([10, 20]))       # 15.0\n",
    "print(promedio([]))             # None\n",
    "\n"
   ]
  },
  {
   "cell_type": "markdown",
   "id": "438bee88",
   "metadata": {},
   "source": [
    "### 28. Crea una función que busque y devuelva el primer elemento duplicado en una lista dada.\n"
   ]
  },
  {
   "cell_type": "code",
   "execution_count": 60,
   "id": "1336a603",
   "metadata": {},
   "outputs": [
    {
     "name": "stdout",
     "output_type": "stream",
     "text": [
      "2\n",
      "None\n"
     ]
    }
   ],
   "source": [
    "def primer_duplicado(lista: list):\n",
    "    \"\"\"\n",
    "    Recibe una lista y devuelve el primer elemento duplicado que encuentre.\n",
    "    Si no hay duplicados, devuelve None.\n",
    "    \"\"\"\n",
    "    vistos = set()\n",
    "    for elemento in lista:\n",
    "        if elemento in vistos:\n",
    "            return elemento\n",
    "        vistos.add(elemento)\n",
    "    return None\n",
    "\n",
    "\n",
    "# Ejemplo de uso\n",
    "print(primer_duplicado([1, 2, 3, 2, 5, 6]))   # 2\n",
    "print(primer_duplicado([10, 20, 30, 40]))     # None\n"
   ]
  },
  {
   "cell_type": "markdown",
   "id": "8a0651b4",
   "metadata": {},
   "source": [
    "### 29. Crea una función que convierta una variable en una cadena de texto y enmascare todos los caracteres con el carácter '#', excepto los últimos cuatro."
   ]
  },
  {
   "cell_type": "code",
   "execution_count": 61,
   "id": "53a35251",
   "metadata": {},
   "outputs": [
    {
     "name": "stdout",
     "output_type": "stream",
     "text": [
      "#####6789\n",
      "######seña\n",
      "1234\n"
     ]
    }
   ],
   "source": [
    "def enmascarar(variable) -> str:\n",
    "    \"\"\"\n",
    "    Convierte una variable en cadena de texto y enmascara todos los caracteres\n",
    "    con '#' excepto los últimos cuatro.\n",
    "    \"\"\"\n",
    "    texto = str(variable)  # convertimos a string\n",
    "    if len(texto) <= 4:\n",
    "        return texto\n",
    "    return \"#\" * (len(texto) - 4) + texto[-4:]\n",
    "\n",
    "\n",
    "# Ejemplo de uso\n",
    "print(enmascarar(123456789))    # #####6789\n",
    "print(enmascarar(\"contraseña\")) # #####eña\n",
    "print(enmascarar(\"1234\"))       # 1234\n"
   ]
  },
  {
   "cell_type": "markdown",
   "id": "b51baf3e",
   "metadata": {},
   "source": [
    "### 30. Crea una función que determine si dos palabras son anagramas, es decir, si están formadas por las mismas letras pero en diferente orden."
   ]
  },
  {
   "cell_type": "code",
   "execution_count": 63,
   "id": "6e56c2d4",
   "metadata": {},
   "outputs": [
    {
     "name": "stdout",
     "output_type": "stream",
     "text": [
      "True\n",
      "True\n",
      "False\n"
     ]
    }
   ],
   "source": [
    "def son_anagramas(palabra1: str, palabra2: str) -> bool:\n",
    "    \"\"\"\n",
    "    Determina si dos palabras son anagramas.\n",
    "    Ignora mayúsculas, minúsculas y espacios.\n",
    "    \"\"\"\n",
    "    # Normalizamos: todo en minúsculas y sin espacios\n",
    "    p1 = palabra1.replace(\" \", \"\").lower()\n",
    "    p2 = palabra2.replace(\" \", \"\").lower()\n",
    "\n",
    "    # Son anagramas si las letras ordenadas coinciden\n",
    "    return sorted(p1) == sorted(p2)\n",
    "\n",
    "\n",
    "# Ejemplo de uso\n",
    "print(son_anagramas(\"Roma\", \"Amor\"))      # True\n",
    "print(son_anagramas(\"Riesgo\", \"Sergio\"))  # True\n",
    "print(son_anagramas(\"Hola\", \"Adiós\"))     # False\n"
   ]
  },
  {
   "cell_type": "markdown",
   "id": "ebe91a38",
   "metadata": {},
   "source": [
    "### 31. Crea una función que solicite al usuario ingresar una lista de nombres y luego solicite un nombre para buscar en esa lista. Si el nombre está en la lista, se imprime un mensaje indicando que fue encontrado, de lo contrario, se lanza una excepción"
   ]
  },
  {
   "cell_type": "code",
   "execution_count": 64,
   "id": "80060215",
   "metadata": {},
   "outputs": [
    {
     "name": "stdout",
     "output_type": "stream",
     "text": [
      "✅ El nombre 'mera' fue encontrado en la lista.\n"
     ]
    }
   ],
   "source": [
    "def buscar_nombre():\n",
    "    \"\"\"\n",
    "    Pide al usuario una lista de nombres y luego un nombre para buscar.\n",
    "    Si el nombre está en la lista, lo indica. Si no, lanza una excepción.\n",
    "    \"\"\"\n",
    "    try:\n",
    "        nombres = input(\"Introduce una lista de nombres separados por espacios: \").split()\n",
    "        nombre_buscar = input(\"Introduce el nombre que quieres buscar: \")\n",
    "\n",
    "        if nombre_buscar in nombres:\n",
    "            print(f\"✅ El nombre '{nombre_buscar}' fue encontrado en la lista.\")\n",
    "        else:\n",
    "            raise ValueError(f\"❌ El nombre '{nombre_buscar}' no está en la lista.\")\n",
    "    except ValueError as e:\n",
    "        print(e)\n",
    "\n",
    "\n",
    "# Ejemplo de uso\n",
    "buscar_nombre()\n"
   ]
  },
  {
   "cell_type": "markdown",
   "id": "ff3f089a",
   "metadata": {},
   "source": [
    "### 32. Crea una función que tome un nombre completo y una lista de empleados, busque el nombre completo en la lista y devuelve el puesto del empleado si está en la lista, de lo contrario, devuelve un mensaje indicando que la persona no trabaja aquí."
   ]
  },
  {
   "cell_type": "code",
   "execution_count": 65,
   "id": "23587f66",
   "metadata": {},
   "outputs": [
    {
     "name": "stdout",
     "output_type": "stream",
     "text": [
      "Diseñador\n",
      "❌ La persona 'Pedro Ruiz' no trabaja aquí.\n"
     ]
    }
   ],
   "source": [
    "def puesto_empleado(nombre_completo: str, empleados: list) -> str:\n",
    "    \"\"\"\n",
    "    Recibe un nombre completo y una lista de empleados en formato [(nombre, puesto), ...].\n",
    "    Devuelve el puesto si el nombre está en la lista, de lo contrario un mensaje de error.\n",
    "    \"\"\"\n",
    "    for nombre, puesto in empleados:\n",
    "        if nombre == nombre_completo:\n",
    "            return puesto\n",
    "    return f\"❌ La persona '{nombre_completo}' no trabaja aquí.\"\n",
    "\n",
    "\n",
    "# Ejemplo de uso\n",
    "empleados = [\n",
    "    (\"Ana Pérez\", \"Desarrolladora\"),\n",
    "    (\"Luis Gómez\", \"Diseñador\"),\n",
    "    (\"Marta López\", \"Gerente\")\n",
    "]\n",
    "\n",
    "print(puesto_empleado(\"Luis Gómez\", empleados))   # Diseñador\n",
    "print(puesto_empleado(\"Pedro Ruiz\", empleados))   # ❌ La persona 'Pedro Ruiz' no trabaja aquí.\n"
   ]
  },
  {
   "cell_type": "markdown",
   "id": "dbfaec8a",
   "metadata": {},
   "source": [
    "### 33. Crea una función lambda que sume elementos correspondientes de dos listas dadas."
   ]
  },
  {
   "cell_type": "code",
   "execution_count": 66,
   "id": "21e1ad8c",
   "metadata": {},
   "outputs": [
    {
     "name": "stdout",
     "output_type": "stream",
     "text": [
      "[5, 7, 9]\n"
     ]
    }
   ],
   "source": [
    "# Función lambda que suma elementos correspondientes de dos listas\n",
    "suma_listas = lambda lista1, lista2: list(map(lambda x, y: x + y, lista1, lista2))\n",
    "\n",
    "# Ejemplo de uso\n",
    "print(suma_listas([1, 2, 3], [4, 5, 6]))\n",
    "# Salida: [5, 7, 9]\n"
   ]
  },
  {
   "cell_type": "markdown",
   "id": "a49c9baf",
   "metadata": {},
   "source": [
    "### 34. Crea la clase Arbol , define un árbol genérico con un tronco y ramas como atributos. Los métodos disponibles son:\n",
    "crecer_tronco , nueva_rama , crecer_ramas , quitar_rama e info_arbol . El objetivo es implementar estos métodos para manipular la estructura del árbol.\n",
    "\n",
    "Código a seguir:\n",
    "1. Inicializar un árbol con un tronco de longitud 1 y una lista vacía de ramas.\n",
    "2. Implementar el método crecer_tronco para aumentar la longitud del tronco en una unidad.\n",
    "3. Implementar el método nueva_rama para agregar una nueva rama de longitud 1 a la lista de ramas.\n",
    "4. Implementar el método crecer_ramas para aumentar en una unidad la longitud de todas las ramas existentes.\n",
    "5. Implementar el método quitar_rama para eliminar una rama en una posición específica.\n",
    "6. Implementar el método\n",
    "\n",
    "info_arbol para devolver información sobre la longitud del tronco, el número de ramas y las longitudes de las mismas.\n",
    "\n",
    "Caso de uso:\n",
    "1. Crear un árbol.\n",
    "2. Hacer crecer el tronco del árbol una unidad.\n",
    "3. Añadir una nueva rama al árbol.\n",
    "4. Hacer crecer todas las ramas del árbol una unidad.\n",
    "5. Añadir dos nuevas ramas al árbol.\n",
    "6. Retirar la rama situada en la posición 2.\n",
    "7. Obtener información sobre el árbol. \"\"\""
   ]
  },
  {
   "cell_type": "code",
   "execution_count": 67,
   "id": "c4408b4f",
   "metadata": {},
   "outputs": [
    {
     "name": "stdout",
     "output_type": "stream",
     "text": [
      "{'tronco': 2, 'num_ramas': 2, 'longitudes_ramas': [2, 1]}\n"
     ]
    }
   ],
   "source": [
    "class Arbol:\n",
    "    \"\"\"\n",
    "    Árbol con:\n",
    "      - tronco: longitud entera (inicia en 1)\n",
    "      - ramas: lista de longitudes (cada rama inicia en 1)\n",
    "    Métodos:\n",
    "      - crecer_tronco()\n",
    "      - nueva_rama()\n",
    "      - crecer_ramas()\n",
    "      - quitar_rama(pos)\n",
    "      - info_arbol() -> dict\n",
    "    \"\"\"\n",
    "    def __init__(self):\n",
    "        self.tronco = 1              # 1) tronco inicia en 1\n",
    "        self.ramas = []              #    sin ramas inicialmente\n",
    "\n",
    "    def crecer_tronco(self):\n",
    "        # 2) aumenta tronco en 1\n",
    "        self.tronco += 1\n",
    "\n",
    "    def nueva_rama(self):\n",
    "        # 3) agrega una rama nueva de longitud 1\n",
    "        self.ramas.append(1)\n",
    "\n",
    "    def crecer_ramas(self):\n",
    "        # 4) aumenta en 1 cada rama existente\n",
    "        self.ramas = [r + 1 for r in self.ramas]\n",
    "\n",
    "    def quitar_rama(self, pos: int):\n",
    "        \"\"\"\n",
    "        5) elimina la rama en la posición 'pos' (índice 0-based).\n",
    "        Si en tu enunciado 'posición 2' significa la segunda rama,\n",
    "        entonces pos=1.\n",
    "        \"\"\"\n",
    "        if not (0 <= pos < len(self.ramas)):\n",
    "            raise IndexError(\"Posición de rama inválida\")\n",
    "        self.ramas.pop(pos)\n",
    "\n",
    "    def info_arbol(self) -> dict:\n",
    "        # 6) devuelve información del árbol\n",
    "        return {\n",
    "            \"tronco\": self.tronco,\n",
    "            \"num_ramas\": len(self.ramas),\n",
    "            \"longitudes_ramas\": list(self.ramas)\n",
    "        }\n",
    "\n",
    "\n",
    "# Caso de uso (pasos 1–7)\n",
    "if __name__ == \"__main__\":\n",
    "    arbol = Arbol()           # 1. Crear un árbol.\n",
    "    arbol.crecer_tronco()     # 2. Crecer tronco +1  -> tronco = 2\n",
    "    arbol.nueva_rama()        # 3. Añadir nueva rama -> ramas = [1]\n",
    "    arbol.crecer_ramas()      # 4. Crecen ramas +1   -> ramas = [2]\n",
    "    arbol.nueva_rama()        # 5. Añadir nueva rama -> ramas = [2, 1]\n",
    "    arbol.nueva_rama()        #    Añadir otra rama  -> ramas = [2, 1, 1]\n",
    "    arbol.quitar_rama(1)      # 6. Retirar rama en posición 2 (índice 1) -> ramas = [2, 1]\n",
    "    print(arbol.info_arbol()) # 7. Obtener info\n",
    "    # Salida ejemplo: {'tronco': 2, 'num_ramas': 2, 'longitudes_ramas': [2, 1]}\n"
   ]
  },
  {
   "cell_type": "markdown",
   "id": "45e87d35",
   "metadata": {},
   "source": [
    "### 36. Crea la clase UsuarioBanco ,representa a un usuario de un banco con su nombre, saldo y si tiene o no cuenta corriente. Proporciona métodos para realizar operaciones como retirar dinero, transferir dinero desde otro usuario y agregar dinero al saldo.\n",
    "\n",
    "Código a seguir:\n",
    "\n",
    "1. Inicializar un usuario con su nombre, saldo y si tiene o no cuenta corriente mediante True y False .\n",
    "2. Implementar el método retirar_dinero para retirar dinero del saldo del usuario. Lanzará un error en caso de no poder hacerse.\n",
    "3. Implementar el método transferir_dinero para realizar una transferencia desde otro usuario al usuario actual. Lanzará un error en caso de no poder hacerse.\n",
    "4. Implementar el método agregar_dinero para agregar dinero al saldo del usuario.\n",
    "\n",
    "Caso de uso:\n",
    "\n",
    "1. Crear dos usuarios: \"Alicia\" con saldo inicial de 100 y \"Bob\" con saldo inicial de 50, ambos con cuenta corriente. PROYECTO LÓGICA: Katas de Python 3\n",
    "2. Agregar 20 unidades de saldo de \"Bob\".\n",
    "3. Hacer una transferencia de 80 unidades desde \"Bob\" a \"Alicia\".\n",
    "4. Retirar 50 unidades de saldo a \"Alicia\".\n"
   ]
  },
  {
   "cell_type": "code",
   "execution_count": 76,
   "id": "1b99ee26",
   "metadata": {},
   "outputs": [
    {
     "name": "stdout",
     "output_type": "stream",
     "text": [
      "Alicia → Saldo: 120\n",
      "Bob → Saldo: 0\n"
     ]
    }
   ],
   "source": [
    "class UsuarioBanco:\n",
    "    \"\"\"\n",
    "    Representa a un usuario de banco con:\n",
    "      - nombre (str)\n",
    "      - saldo (float)\n",
    "      - tiene_cc (bool) -> indica si tiene cuenta corriente\n",
    "    Métodos:\n",
    "      - retirar_dinero(cantidad)\n",
    "      - transferir_dinero(origen, cantidad)\n",
    "      - agregar_dinero(cantidad)\n",
    "    \"\"\"\n",
    "    def __init__(self, nombre: str, saldo: float, tiene_cc: bool):\n",
    "        self.nombre = nombre\n",
    "        self.saldo = saldo\n",
    "        self.tiene_cc = tiene_cc\n",
    "\n",
    "    def retirar_dinero(self, cantidad: float):\n",
    "        if cantidad <= 0:\n",
    "            raise ValueError(\"La cantidad a retirar debe ser positiva.\")\n",
    "        if cantidad > self.saldo:\n",
    "            raise ValueError(f\"{self.nombre} no tiene suficiente saldo para retirar {cantidad}.\")\n",
    "        self.saldo -= cantidad\n",
    "\n",
    "    def transferir_dinero(self, origen: \"UsuarioBanco\", cantidad: float):\n",
    "        if not self.tiene_cc or not origen.tiene_cc:\n",
    "            raise ValueError(\"Ambos usuarios deben tener cuenta corriente.\")\n",
    "        if cantidad <= 0:\n",
    "            raise ValueError(\"La cantidad a transferir debe ser positiva.\")\n",
    "        if origen.saldo < cantidad:\n",
    "            raise ValueError(f\"{origen.nombre} no tiene suficiente saldo para transferir {cantidad}.\")\n",
    "        origen.saldo -= cantidad\n",
    "        self.saldo += cantidad\n",
    "\n",
    "    def agregar_dinero(self, cantidad: float):\n",
    "        if cantidad <= 0:\n",
    "            raise ValueError(\"La cantidad a agregar debe ser positiva.\")\n",
    "        self.saldo += cantidad\n",
    "\n",
    "    def __str__(self):\n",
    "        return f\"{self.nombre} → Saldo: {self.saldo}\"\n",
    "\n",
    "\n",
    "# Caso de uso\n",
    "if __name__ == \"__main__\":\n",
    "    # 1. Crear usuarios\n",
    "    alicia = UsuarioBanco(\"Alicia\", 100, True)\n",
    "    bob = UsuarioBanco(\"Bob\", 50, True)\n",
    "\n",
    "    # 2. Agregar 20 unidades a Bob\n",
    "    bob.agregar_dinero(20)  # Bob = 70\n",
    "  \n",
    "    \n",
    "    # 3. Transferir 70 unidades desde Bob a Alicia (máximo permitido)\n",
    "    alicia.transferir_dinero(bob, 70)\n",
    "   \n",
    "\n",
    "    # 4. Retirar 50 unidades de Alicia\n",
    "    alicia.retirar_dinero(50)\n",
    "\n",
    "    # Mostrar resultados\n",
    "    print(alicia)  # Alicia → Saldo: 120\n",
    "    print(bob)     # Bob → Saldo: 0\n"
   ]
  },
  {
   "cell_type": "markdown",
   "id": "3f090687",
   "metadata": {},
   "source": [
    "### 37. Crea una función llamada procesar_texto que procesa un texto según la opción especificada: contar_palabras , reemplazar_palabras , eliminar_palabra . Estas opciones son otras funciones que tenemos que definir primero y llamar dentro de la función procesar_texto .\n",
    "\n",
    "Código a seguir:\n",
    "1. Crear una función contar_palabras para contar el número de veces que aparece cada palabra en el texto. Tiene que devolver un diccionario.\n",
    "2. Crear una función reemplazar_palabras para remplazar una palabra_original del texto por una palabra_nueva . Tiene que devolver el texto con el remplazo de palabras.\n",
    "3. Crear una función eliminar_palabra para eliminar una palabra del texto. Tiene que devolver el texto con la palabra eliminada.\n",
    "4. Crear la función procesar_texto que tome un texto, una opción(entre \"contar\", \"reemplazar\", \"eliminar\") y un número de argumentos variable según la opción indicada.\n",
    "\n",
    "Caso de uso:\n",
    "Comprueba el funcionamiento completo de la función procesar_texto"
   ]
  },
  {
   "cell_type": "code",
   "execution_count": 77,
   "id": "5cb6f9b0",
   "metadata": {},
   "outputs": [
    {
     "name": "stdout",
     "output_type": "stream",
     "text": [
      "👉 Opción contar:\n",
      "{'hola': 2, 'mundo': 2, 'python': 1}\n",
      "\n",
      "👉 Opción reemplazar:\n",
      "hola universo hola python universo\n",
      "\n",
      "👉 Opción eliminar:\n",
      "mundo python mundo\n"
     ]
    }
   ],
   "source": [
    "def contar_palabras(texto: str) -> dict:\n",
    "    \"\"\"\n",
    "    Cuenta cuántas veces aparece cada palabra en el texto.\n",
    "    Devuelve un diccionario {palabra: cantidad}.\n",
    "    \"\"\"\n",
    "    palabras = texto.split()\n",
    "    conteo = {}\n",
    "    for palabra in palabras:\n",
    "        conteo[palabra] = conteo.get(palabra, 0) + 1\n",
    "    return conteo\n",
    "\n",
    "\n",
    "def reemplazar_palabras(texto: str, palabra_original: str, palabra_nueva: str) -> str:\n",
    "    \"\"\"\n",
    "    Reemplaza todas las ocurrencias de palabra_original por palabra_nueva.\n",
    "    \"\"\"\n",
    "    return texto.replace(palabra_original, palabra_nueva)\n",
    "\n",
    "\n",
    "def eliminar_palabra(texto: str, palabra: str) -> str:\n",
    "    \"\"\"\n",
    "    Elimina todas las ocurrencias de una palabra del texto.\n",
    "    \"\"\"\n",
    "    palabras = texto.split()\n",
    "    palabras_filtradas = [p for p in palabras if p != palabra]\n",
    "    return \" \".join(palabras_filtradas)\n",
    "\n",
    "\n",
    "def procesar_texto(texto: str, opcion: str, *args):\n",
    "    \"\"\"\n",
    "    Procesa el texto según la opción especificada:\n",
    "    - \"contar\": devuelve un diccionario con la frecuencia de palabras\n",
    "    - \"reemplazar\": requiere palabra_original y palabra_nueva\n",
    "    - \"eliminar\": requiere palabra a eliminar\n",
    "    \"\"\"\n",
    "    if opcion == \"contar\":\n",
    "        return contar_palabras(texto)\n",
    "    elif opcion == \"reemplazar\":\n",
    "        if len(args) != 2:\n",
    "            raise ValueError(\"Debes proporcionar palabra_original y palabra_nueva.\")\n",
    "        return reemplazar_palabras(texto, args[0], args[1])\n",
    "    elif opcion == \"eliminar\":\n",
    "        if len(args) != 1:\n",
    "            raise ValueError(\"Debes proporcionar la palabra a eliminar.\")\n",
    "        return eliminar_palabra(texto, args[0])\n",
    "    else:\n",
    "        raise ValueError(\"Opción no válida. Usa 'contar', 'reemplazar' o 'eliminar'.\")\n",
    "\n",
    "\n",
    "# Caso de uso\n",
    "texto = \"hola mundo hola python mundo\"\n",
    "\n",
    "print(\"👉 Opción contar:\")\n",
    "print(procesar_texto(texto, \"contar\"))\n",
    "# {'hola': 2, 'mundo': 2, 'python': 1}\n",
    "\n",
    "print(\"\\n👉 Opción reemplazar:\")\n",
    "print(procesar_texto(texto, \"reemplazar\", \"mundo\", \"universo\"))\n",
    "# \"hola universo hola python universo\"\n",
    "\n",
    "print(\"\\n👉 Opción eliminar:\")\n",
    "print(procesar_texto(texto, \"eliminar\", \"hola\"))\n",
    "# \"mundo python mundo\"\n"
   ]
  },
  {
   "cell_type": "markdown",
   "id": "d70265dc",
   "metadata": {},
   "source": [
    "### 38. Genera un programa que nos diga si es de noche, de día o tarde según la hora proporcionada por el usuario."
   ]
  },
  {
   "cell_type": "code",
   "execution_count": 84,
   "id": "a361f946",
   "metadata": {},
   "outputs": [
    {
     "name": "stdout",
     "output_type": "stream",
     "text": [
      "🌙 Es de noche.\n"
     ]
    }
   ],
   "source": [
    "def momento_del_dia():\n",
    "    \"\"\"\n",
    "    Pide una hora al usuario (0-23) y devuelve si es de día, tarde o noche.\n",
    "    \"\"\"\n",
    "    try:\n",
    "        hora = int(input(\"Introduce la hora (0-23): \"))\n",
    "        if not (0 <= hora <= 23):\n",
    "            raise ValueError(\"La hora debe estar entre 0 y 23.\")\n",
    "        \n",
    "        if 6 <= hora < 12:\n",
    "            print(\"☀️ Es de día (mañana).\")\n",
    "        elif 12 <= hora < 20:\n",
    "            print(\"🌇 Es la tarde.\")\n",
    "        else:\n",
    "            print(\"🌙 Es de noche.\")\n",
    "    except ValueError as e:\n",
    "        print(f\"❌ Error: {e}\")\n",
    "\n",
    "\n",
    "# Ejemplo de uso\n",
    "momento_del_dia()\n"
   ]
  },
  {
   "cell_type": "markdown",
   "id": "ed097913",
   "metadata": {},
   "source": [
    "### 39. Escribe un programa que determine qué calificación en texto tiene un alumno en base a su calificación numérica. \n",
    "Las reglas de calificación son:\n",
    "- 0 - 69 insuficiente\n",
    "- 70 - 79 bien\n",
    "- 80 - 89 muy bien\n",
    "- 90 - 100 excelente"
   ]
  },
  {
   "cell_type": "code",
   "execution_count": 89,
   "id": "e7c2d39e",
   "metadata": {},
   "outputs": [
    {
     "name": "stdout",
     "output_type": "stream",
     "text": [
      "🌟 Excelente\n"
     ]
    }
   ],
   "source": [
    "def calificacion_texto():\n",
    "    \"\"\"\n",
    "    Pide una calificación numérica (0-100) al usuario\n",
    "    y devuelve la calificación en texto:\n",
    "    - 0 - 69: insuficiente\n",
    "    - 70 - 79: bien\n",
    "    - 80 - 89: muy bien\n",
    "    - 90 - 100: excelente\n",
    "    \"\"\"\n",
    "    try:\n",
    "        nota = int(input(\"Introduce la calificación del alumno (0-100): \"))\n",
    "        if not (0 <= nota <= 100):\n",
    "            raise ValueError(\"La nota debe estar entre 0 y 100.\")\n",
    "        \n",
    "        if nota <= 69:\n",
    "            print(\"❌ Insuficiente\")\n",
    "        elif nota <= 79:\n",
    "            print(\"✔️ Bien\")\n",
    "        elif nota <= 89:\n",
    "            print(\"👍 Muy bien\")\n",
    "        else:\n",
    "            print(\"🌟 Excelente\")\n",
    "    except ValueError as e:\n",
    "        print(f\"❌ Error: {e}\")\n",
    "\n",
    "\n",
    "# Ejemplo de uso\n",
    "calificacion_texto()\n"
   ]
  },
  {
   "cell_type": "markdown",
   "id": "8276fc95",
   "metadata": {},
   "source": [
    "### 40. Escribe una función que tome dos parámetros: figura (una cadena que puede ser \"rectangulo\" , \"circulo\" o \"triangulo\" ) y datos (una tupla con los datos necesarios para calcular el área de la figura)."
   ]
  },
  {
   "cell_type": "code",
   "execution_count": 90,
   "id": "57ef7dbc",
   "metadata": {},
   "outputs": [
    {
     "name": "stdout",
     "output_type": "stream",
     "text": [
      "Área rectángulo 3x4: 12\n",
      "Área círculo radio 2: 12.566370614359172\n",
      "Área triángulo base 6 altura 3: 9.0\n"
     ]
    }
   ],
   "source": [
    "import math\n",
    "\n",
    "def area_figura(figura: str, datos: tuple) -> float:\n",
    "    \"\"\"\n",
    "    Calcula el área de una figura geométrica.\n",
    "    - figura puede ser: \"rectangulo\", \"circulo\" o \"triangulo\".\n",
    "    - datos es una tupla con los valores necesarios:\n",
    "        * rectangulo -> (base, altura)\n",
    "        * circulo    -> (radio,)\n",
    "        * triangulo  -> (base, altura)\n",
    "    \"\"\"\n",
    "    figura = figura.lower()\n",
    "\n",
    "    if figura == \"rectangulo\":\n",
    "        base, altura = datos\n",
    "        return base * altura\n",
    "    elif figura == \"circulo\":\n",
    "        (radio,) = datos\n",
    "        return math.pi * radio ** 2\n",
    "    elif figura == \"triangulo\":\n",
    "        base, altura = datos\n",
    "        return (base * altura) / 2\n",
    "    else:\n",
    "        raise ValueError(\"Figura no válida. Usa 'rectangulo', 'circulo' o 'triangulo'.\")\n",
    "\n",
    "\n",
    "# Ejemplos de uso\n",
    "print(\"Área rectángulo 3x4:\", area_figura(\"rectangulo\", (3, 4)))  # 12\n",
    "print(\"Área círculo radio 2:\", area_figura(\"circulo\", (2,)))     # ~12.566\n",
    "print(\"Área triángulo base 6 altura 3:\", area_figura(\"triangulo\", (6, 3)))  # 9\n"
   ]
  },
  {
   "cell_type": "markdown",
   "id": "719b1a0d",
   "metadata": {},
   "source": [
    "### 41. En este ejercicio, se te pedirá que escribas un programa en Python que utilice condicionales para determinar el monto final de una compra en una tienda en línea, después de aplicar un descuento. El programa debe hacer lo siguiente:\n",
    "1. Solicita al usuario que ingrese el precio original de un artículo.\n",
    "2. Pregunta al usuario si tiene un cupón de descuento (respuesta sí o no).\n",
    "3. Si el usuario responde que sí, solicita que ingrese el valor del cupón de descuento.\n",
    "4. Aplica el descuento al precio original del artículo, siempre y cuando el valor del cupón sea válido (es decir, mayor a cero). Por ejemplo, descuento de 15€.\n",
    "5. Muestra el precio final de la compra, teniendo en cuenta el descuento aplicado o sin él.\n",
    "6. Recuerda utilizar estructuras de control de flujo como if, elif y else para llevar a cabo estas acciones en tu programa de Python."
   ]
  },
  {
   "cell_type": "code",
   "execution_count": 95,
   "id": "e8581138",
   "metadata": {},
   "outputs": [
    {
     "name": "stdout",
     "output_type": "stream",
     "text": [
      "Precio final (sin descuento): 10.00 €\n"
     ]
    }
   ],
   "source": [
    "def calcular_precio_final():\n",
    "    \"\"\"\n",
    "    Calcula el monto final de una compra aplicando un cupón de descuento si es válido.\n",
    "    \"\"\"\n",
    "    try:\n",
    "        # 1. Precio original\n",
    "        precio = float(input(\"Introduce el precio original del artículo: \"))\n",
    "        if precio < 0:\n",
    "            raise ValueError(\"El precio no puede ser negativo.\")\n",
    "\n",
    "        # 2. Preguntar si tiene cupón\n",
    "        respuesta = input(\"¿Tienes un cupón de descuento? (sí/no): \").strip().lower()\n",
    "\n",
    "        # 3. Si tiene cupón, pedir valor\n",
    "        if respuesta in (\"sí\", \"si\", \"s\"):\n",
    "            valor_cupon = float(input(\"Introduce el valor del cupón: \"))\n",
    "            if valor_cupon > 0:\n",
    "                if valor_cupon >= precio:\n",
    "                    print(\"🎉 El cupón cubre todo el precio, el artículo es GRATIS.\")\n",
    "                else:\n",
    "                    precio_final = precio - valor_cupon\n",
    "                    print(f\"✅ Precio final con descuento: {precio_final:.2f} €\")\n",
    "            else:\n",
    "                print(\"❌ El cupón no es válido. Precio sin descuento.\")\n",
    "                print(f\"Precio final: {precio:.2f} €\")\n",
    "        elif respuesta in (\"no\", \"n\"):\n",
    "            print(f\"Precio final (sin descuento): {precio:.2f} €\")\n",
    "        else:\n",
    "            print(\"❌ Respuesta no válida. Debes contestar sí o no.\")\n",
    "\n",
    "    except ValueError as e:\n",
    "        print(f\"❌ Error: {e}\")\n",
    "\n",
    "\n",
    "# Ejemplo de uso\n",
    "calcular_precio_final()\n"
   ]
  }
 ],
 "metadata": {
  "kernelspec": {
   "display_name": "Python 3",
   "language": "python",
   "name": "python3"
  },
  "language_info": {
   "codemirror_mode": {
    "name": "ipython",
    "version": 3
   },
   "file_extension": ".py",
   "mimetype": "text/x-python",
   "name": "python",
   "nbconvert_exporter": "python",
   "pygments_lexer": "ipython3",
   "version": "3.13.7"
  }
 },
 "nbformat": 4,
 "nbformat_minor": 5
}
